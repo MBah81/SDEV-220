{
 "cells": [
  {
   "cell_type": "code",
   "execution_count": 1,
   "id": "08d5e04a",
   "metadata": {},
   "outputs": [
    {
     "name": "stdout",
     "output_type": "stream",
     "text": [
      "Enter the student's last name (enter 'ZZZ' to quit): Bah\n",
      "Enter the student's first name: Mamadou\n",
      "Enter the student's GPA: 3.6\n",
      "Enter the student's last name (enter 'ZZZ' to quit): James\n",
      "Enter the student's first name: Jay\n",
      "Enter the student's GPA: 3.4\n",
      "Enter the student's last name (enter 'ZZZ' to quit): zzz\n",
      "Enter the student's first name: MAy\n",
      "Enter the student's GPA: 3.2\n",
      "Enter the student's last name (enter 'ZZZ' to quit): ZZZ\n",
      "Mamadou Bah has made the Dean's List.\n",
      "Jay James has made the Honor Roll.\n"
     ]
    }
   ],
   "source": [
    "# Mamadou\n",
    "# student_gpa.py\n",
    "# Description: This Python app accepts student names and GPAs and determines if they qualify for the Dean's List or Honor Roll.\n",
    "\n",
    "students = []\n",
    "\n",
    "while True:\n",
    "    last_name = input(\"Enter the student's last name (enter 'ZZZ' to quit): \")\n",
    "    if last_name == 'ZZZ':\n",
    "        break\n",
    "\n",
    "    first_name = input(\"Enter the student's first name: \")\n",
    "\n",
    "    gpa = float(input(\"Enter the student's GPA: \"))\n",
    "\n",
    "    student = {'last_name': last_name, 'first_name': first_name, 'gpa': gpa}\n",
    "\n",
    "    students.append(student)\n",
    "\n",
    "for student in students:\n",
    "    if student['gpa'] >= 3.5:\n",
    "        print(f\"{student['first_name']} {student['last_name']} has made the Dean's List.\")\n",
    "\n",
    "\n",
    "    elif student['gpa'] >= 3.25:\n",
    "        print(f\"{student['first_name']} {student['last_name']} has made the Honor Roll.\")\n"
   ]
  },
  {
   "cell_type": "code",
   "execution_count": null,
   "id": "957961db",
   "metadata": {},
   "outputs": [],
   "source": []
  }
 ],
 "metadata": {
  "kernelspec": {
   "display_name": "Python 3 (ipykernel)",
   "language": "python",
   "name": "python3"
  },
  "language_info": {
   "codemirror_mode": {
    "name": "ipython",
    "version": 3
   },
   "file_extension": ".py",
   "mimetype": "text/x-python",
   "name": "python",
   "nbconvert_exporter": "python",
   "pygments_lexer": "ipython3",
   "version": "3.10.9"
  }
 },
 "nbformat": 4,
 "nbformat_minor": 5
}
